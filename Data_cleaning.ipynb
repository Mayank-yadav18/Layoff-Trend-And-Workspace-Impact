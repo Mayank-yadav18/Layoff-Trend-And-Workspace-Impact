{
 "cells": [
  {
   "cell_type": "code",
   "execution_count": 1,
   "id": "f520d5ed-74ef-4fb4-a3e3-a3bede5c49ba",
   "metadata": {},
   "outputs": [],
   "source": [
    "import pandas as pd\n",
    "\n",
    "# Load the dataset\n",
    "df = pd.read_csv(\"layoffs.csv\")\n",
    "\n",
    "# Step 1: Remove duplicate rows\n",
    "df.drop_duplicates(inplace=True)\n",
    "\n",
    "# Step 2: Replace \"NULL\" strings with actual NaN\n",
    "df.replace(\"NULL\", pd.NA, inplace=True)\n",
    "\n",
    "# Step 3: Drop rows where all columns are NaN\n",
    "df.dropna(how='all', inplace=True)\n",
    "\n",
    "# Step 4: Strip whitespace and fix country names\n",
    "df['country'] = df['country'].str.strip().str.replace(r'\\.$', '', regex=True)\n",
    "df['company'] = df['company'].str.strip()\n",
    "df['location'] = df['location'].str.strip()\n",
    "df['industry'] = df['industry'].str.strip()\n",
    "\n",
    "# Step 5: Convert date column to datetime\n",
    "df['date'] = pd.to_datetime(df['date'], errors='coerce')\n",
    "\n",
    "# Step 6: Convert numeric columns to appropriate types\n",
    "numeric_cols = ['total_laid_off', 'percentage_laid_off', 'funds_raised_millions']\n",
    "df[numeric_cols] = df[numeric_cols].apply(pd.to_numeric, errors='coerce')\n",
    "\n",
    "# Step 7: Drop rows with missing critical fields\n",
    "df.dropna(subset=['company', 'country', 'date'], inplace=True)\n",
    "\n",
    "# Step 8: Optional - Add year, month, quarter for Power BI\n",
    "df['year'] = df['date'].dt.year\n",
    "df['month'] = df['date'].dt.month\n",
    "df['quarter'] = df['date'].dt.to_period('Q')\n",
    "\n",
    "\n"
   ]
  },
  {
   "cell_type": "code",
   "execution_count": 2,
   "id": "c8538921-7865-4296-b97e-fd180c76b779",
   "metadata": {},
   "outputs": [
    {
     "name": "stderr",
     "output_type": "stream",
     "text": [
      "C:\\Users\\HP\\AppData\\Local\\Temp\\ipykernel_18176\\708082086.py:1: FutureWarning: Downcasting object dtype arrays on .fillna, .ffill, .bfill is deprecated and will change in a future version. Call result.infer_objects(copy=False) instead. To opt-in to the future behavior, set `pd.set_option('future.no_silent_downcasting', True)`\n",
      "  df['industry'] = df.groupby('company')['industry'].transform(lambda x: x.ffill().bfill())\n"
     ]
    }
   ],
   "source": [
    "df['industry'] = df.groupby('company')['industry'].transform(lambda x: x.ffill().bfill())"
   ]
  },
  {
   "cell_type": "code",
   "execution_count": null,
   "id": "c4ae32a8-8f71-43b0-b243-7a6707e12cf1",
   "metadata": {},
   "outputs": [],
   "source": []
  },
  {
   "cell_type": "code",
   "execution_count": null,
   "id": "3bad573c-d68d-4d29-a86f-e19aa2f27e03",
   "metadata": {},
   "outputs": [],
   "source": []
  },
  {
   "cell_type": "code",
   "execution_count": 3,
   "id": "aea4301a-2f6f-4ecb-b5ac-eb1010840bcf",
   "metadata": {},
   "outputs": [],
   "source": [
    "# Step 9: Save cleaned data to Excel\n",
    "df.to_excel(\"layoffs_cleaned.xlsx\", index=False)"
   ]
  },
  {
   "cell_type": "code",
   "execution_count": null,
   "id": "467e4396-8600-440f-a08e-66ded5ad8c34",
   "metadata": {},
   "outputs": [],
   "source": []
  }
 ],
 "metadata": {
  "kernelspec": {
   "display_name": "Python 3 (ipykernel)",
   "language": "python",
   "name": "python3"
  },
  "language_info": {
   "codemirror_mode": {
    "name": "ipython",
    "version": 3
   },
   "file_extension": ".py",
   "mimetype": "text/x-python",
   "name": "python",
   "nbconvert_exporter": "python",
   "pygments_lexer": "ipython3",
   "version": "3.13.5"
  }
 },
 "nbformat": 4,
 "nbformat_minor": 5
}
